{
 "cells": [
  {
   "cell_type": "code",
   "execution_count": 1,
   "metadata": {},
   "outputs": [
    {
     "name": "stdout",
     "output_type": "stream",
     "text": [
      "Requirement already satisfied: mtcnn in c:\\conda\\anaconda2\\envs\\py36\\lib\\site-packages (0.1.0)\n",
      "Requirement already satisfied: keras>=2.0.0 in c:\\users\\musaib amin\\appdata\\roaming\\python\\python36\\site-packages (from mtcnn) (2.3.1)\n",
      "Requirement already satisfied: opencv-python>=4.1.0 in c:\\conda\\anaconda2\\envs\\py36\\lib\\site-packages (from mtcnn) (4.1.2+contrib)\n",
      "Requirement already satisfied: keras-preprocessing>=1.0.5 in c:\\users\\musaib amin\\appdata\\roaming\\python\\python36\\site-packages (from keras>=2.0.0->mtcnn) (1.1.0)\n",
      "Requirement already satisfied: six>=1.9.0 in c:\\conda\\anaconda2\\envs\\py36\\lib\\site-packages (from keras>=2.0.0->mtcnn) (1.13.0)\n",
      "Requirement already satisfied: keras-applications>=1.0.6 in c:\\conda\\anaconda2\\envs\\py36\\lib\\site-packages (from keras>=2.0.0->mtcnn) (1.0.8)\n",
      "Requirement already satisfied: numpy>=1.9.1 in c:\\conda\\anaconda2\\envs\\py36\\lib\\site-packages (from keras>=2.0.0->mtcnn) (1.17.4)\n",
      "Requirement already satisfied: scipy>=0.14 in c:\\conda\\anaconda2\\envs\\py36\\lib\\site-packages (from keras>=2.0.0->mtcnn) (1.3.3)\n",
      "Requirement already satisfied: pyyaml in c:\\conda\\anaconda2\\envs\\py36\\lib\\site-packages (from keras>=2.0.0->mtcnn) (5.1.2)\n",
      "Requirement already satisfied: h5py in c:\\conda\\anaconda2\\envs\\py36\\lib\\site-packages (from keras>=2.0.0->mtcnn) (2.10.0)\n"
     ]
    }
   ],
   "source": [
    "!pip install mtcnn"
   ]
  },
  {
   "cell_type": "code",
   "execution_count": 5,
   "metadata": {},
   "outputs": [],
   "source": [
    "import cv2\n",
    "from mtcnn.mtcnn import MTCNN\n",
    "detector = MTCNN()\n"
   ]
  },
  {
   "cell_type": "code",
   "execution_count": 7,
   "metadata": {},
   "outputs": [
    {
     "ename": "NameError",
     "evalue": "name 'cap' is not defined",
     "output_type": "error",
     "traceback": [
      "\u001b[1;31m---------------------------------------------------------------------------\u001b[0m",
      "\u001b[1;31mNameError\u001b[0m                                 Traceback (most recent call last)",
      "\u001b[1;32m<ipython-input-7-b68dec33a661>\u001b[0m in \u001b[0;36m<module>\u001b[1;34m\u001b[0m\n\u001b[0;32m     29\u001b[0m \u001b[1;33m\u001b[0m\u001b[0m\n\u001b[0;32m     30\u001b[0m \u001b[1;32mif\u001b[0m \u001b[0m__name__\u001b[0m\u001b[1;33m==\u001b[0m\u001b[1;34m\"__main__\"\u001b[0m\u001b[1;33m:\u001b[0m\u001b[1;33m\u001b[0m\u001b[1;33m\u001b[0m\u001b[0m\n\u001b[1;32m---> 31\u001b[1;33m     \u001b[0mIITFaceDetection\u001b[0m\u001b[1;33m(\u001b[0m\u001b[1;33m)\u001b[0m\u001b[1;33m\u001b[0m\u001b[1;33m\u001b[0m\u001b[0m\n\u001b[0m",
      "\u001b[1;32m<ipython-input-7-b68dec33a661>\u001b[0m in \u001b[0;36mIITFaceDetection\u001b[1;34m()\u001b[0m\n\u001b[0;32m     25\u001b[0m             \u001b[1;32mbreak\u001b[0m\u001b[1;33m\u001b[0m\u001b[1;33m\u001b[0m\u001b[0m\n\u001b[0;32m     26\u001b[0m     \u001b[1;31m#When everything's done, release capture\u001b[0m\u001b[1;33m\u001b[0m\u001b[1;33m\u001b[0m\u001b[1;33m\u001b[0m\u001b[0m\n\u001b[1;32m---> 27\u001b[1;33m     \u001b[0mcap\u001b[0m\u001b[1;33m.\u001b[0m\u001b[0mrelease\u001b[0m\u001b[1;33m(\u001b[0m\u001b[1;33m)\u001b[0m\u001b[1;33m\u001b[0m\u001b[1;33m\u001b[0m\u001b[0m\n\u001b[0m\u001b[0;32m     28\u001b[0m     \u001b[0mcv2\u001b[0m\u001b[1;33m.\u001b[0m\u001b[0mdestroyAllWindows\u001b[0m\u001b[1;33m(\u001b[0m\u001b[1;33m)\u001b[0m\u001b[1;33m\u001b[0m\u001b[1;33m\u001b[0m\u001b[0m\n\u001b[0;32m     29\u001b[0m \u001b[1;33m\u001b[0m\u001b[0m\n",
      "\u001b[1;31mNameError\u001b[0m: name 'cap' is not defined"
     ]
    }
   ],
   "source": [
    "def IITFaceDetection():\n",
    "\n",
    "    #We can use IP of a webcam to take video stream from\n",
    "    videoall = cv2.VideoCapture(0)\n",
    "    while True: \n",
    "        #Capture frame-by-frame\n",
    "        __, image = videoall.read()\n",
    "        \n",
    "        #Using MTCNN to detect faces\n",
    "        result = detector.detect_faces(image)\n",
    "        if result != []:\n",
    "            for person in result:\n",
    "                bounding_box = person['box']\n",
    "                keypoints = person['keypoints']\n",
    "        \n",
    "                cv2.rectangle(image,\n",
    "                              (bounding_box[0], bounding_box[1]),\n",
    "                              (bounding_box[0]+bounding_box[2], bounding_box[1] + bounding_box[3]),\n",
    "                              (0,155,255),\n",
    "                              2)\n",
    "        \n",
    "        #display resulting frame\n",
    "        cv2.imshow('Face Detection App IITD',image)\n",
    "        if cv2.waitKey(1) & 0xFF == ord('q'):\n",
    "            break\n",
    "    #When everything's done, release capture\n",
    "    cap.release()\n",
    "    cv2.destroyAllWindows()\n",
    "\n",
    "if __name__==\"__main__\":\n",
    "    IITFaceDetection()"
   ]
  },
  {
   "cell_type": "code",
   "execution_count": null,
   "metadata": {},
   "outputs": [],
   "source": [
    "if __name__==\"__main__\":\n",
    "    IITFaceDetection()"
   ]
  }
 ],
 "metadata": {
  "kernelspec": {
   "display_name": "Python 3",
   "language": "python",
   "name": "python3"
  },
  "language_info": {
   "codemirror_mode": {
    "name": "ipython",
    "version": 3
   },
   "file_extension": ".py",
   "mimetype": "text/x-python",
   "name": "python",
   "nbconvert_exporter": "python",
   "pygments_lexer": "ipython3",
   "version": "3.6.9"
  }
 },
 "nbformat": 4,
 "nbformat_minor": 2
}
